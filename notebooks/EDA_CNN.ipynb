{
 "cells": [
  {
   "metadata": {},
   "cell_type": "markdown",
   "source": [
    "# EDA\n",
    "## Imágenes de papas\n"
   ],
   "id": "1c018f63cddeae29"
  },
  {
   "metadata": {},
   "cell_type": "markdown",
   "source": "#### 1. Importación de librerías",
   "id": "a56657a1b383ecb6"
  },
  {
   "metadata": {
    "collapsed": true
   },
   "cell_type": "code",
   "outputs": [],
   "execution_count": null,
   "source": [
    "import os\n",
    "import pandas as pd\n",
    "import numpy as np\n",
    "import proc\n",
    "import seaborn as sns\n",
    "import matplotlib.pyplot as plt\n",
    "from matplotlib.image import imread"
   ],
   "id": "initial_id"
  },
  {
   "metadata": {},
   "cell_type": "markdown",
   "source": "#### 2. Importación de datos",
   "id": "481acf9af061b57e"
  },
  {
   "metadata": {},
   "cell_type": "code",
   "outputs": [],
   "execution_count": null,
   "source": [
    "# Se establece la dirección en donde están los datos a ser analizados\n",
    "\n",
    "data_direccion_healthy = \"C:\\\\Users\\\\evely\\\\OneDrive\\\\Escritorio\\\\PlantVillage\\\\Potato___healthy\"\n",
    "\n",
    "data_direccion_eblight = \"C:\\\\Users\\\\evely\\\\OneDrive\\\\Escritorio\\\\PlantVillage\\\\Potato___Early_blight\"\n",
    "\n",
    "data_direccion_lblight = \"C:\\\\Users\\\\evely\\OneDrive\\\\Escritorio\\\\PlantVillage\\\\Potato___Late_blight\""
   ],
   "id": "dbc71c045d539957"
  },
  {
   "metadata": {},
   "cell_type": "markdown",
   "source": "#### 3. Revisión de los contenidos de los datos",
   "id": "9d4d37e987aad91b"
  },
  {
   "metadata": {},
   "cell_type": "code",
   "outputs": [],
   "execution_count": null,
   "source": [
    "# Se revisa que los archivos contenidos en las carpetas se encuentren presentes.\n",
    "# Primero los traemos como se muestra a continuación:\n",
    "\n",
    "imagen_healthy = os.listdir(data_direccion_healthy)\n",
    "imagen_eblight = os.listdir(data_direccion_eblight)\n",
    "imagen_lblight = os.listdir(data_direccion_lblight)"
   ],
   "id": "3368e2a4b7106e83"
  },
  {
   "metadata": {},
   "cell_type": "code",
   "outputs": [],
   "execution_count": null,
   "source": [
    "# Se desglosan los archivos, mostrandose únicamente sus nombres\n",
    "\n",
    "imagen_healthy"
   ],
   "id": "76145099c5c0102f"
  },
  {
   "metadata": {},
   "cell_type": "code",
   "outputs": [],
   "execution_count": null,
   "source": "imagen_eblight",
   "id": "d0b1d1ba3a8b4826"
  },
  {
   "metadata": {},
   "cell_type": "code",
   "outputs": [],
   "execution_count": null,
   "source": "imagen_lblight",
   "id": "3ef436fd93b49312"
  },
  {
   "metadata": {},
   "cell_type": "markdown",
   "source": "#### 4. Viualización del contenido en imágenes",
   "id": "11aa9caa7e448491"
  },
  {
   "metadata": {},
   "cell_type": "code",
   "outputs": [],
   "execution_count": null,
   "source": [
    "\"\"\"\n",
    "En algunos casos y momentos, como se está haciendo entre clases en archivo .py y notebooks, a veces los cambios que se hagan en el .py no los detecta el notebook en el momento, por eso hay que estar recargando en ciertos momentos, por eso se hace un reaload de la imformación en varios momentos, con el\n",
    "fin de que nos genere error al momento de ejecutar el bloque de código\n",
    "\"\"\""
   ],
   "id": "5c53050f5b665c4c"
  },
  {
   "metadata": {},
   "cell_type": "code",
   "outputs": [],
   "execution_count": null,
   "source": [
    "import importlib\n",
    "import Clases\n",
    "importlib.reload(Clases)\n",
    "\n",
    "from Clases import Imagenes\n",
    "\n",
    "proc_healthy = Imagenes(data_direccion_healthy)\n",
    "proc_healthy.mostrar_imagenes_originales(cantidad=10)"
   ],
   "id": "d83e5132f6a0b9a3"
  },
  {
   "metadata": {},
   "cell_type": "code",
   "outputs": [],
   "execution_count": null,
   "source": [
    "proc_eblight = Imagenes(data_direccion_eblight)\n",
    "proc_eblight.mostrar_imagenes_originales(cantidad=10)"
   ],
   "id": "9ae7579f3ee5190c"
  },
  {
   "metadata": {},
   "cell_type": "code",
   "outputs": [],
   "execution_count": null,
   "source": [
    "proc_lblight = Imagenes(data_direccion_lblight)\n",
    "proc_lblight.mostrar_imagenes_originales(cantidad=10)"
   ],
   "id": "77574148e7754252"
  },
  {
   "metadata": {},
   "cell_type": "markdown",
   "source": "#### 5. Revisión de las dimensiones",
   "id": "18ae52264eae032d"
  },
  {
   "metadata": {},
   "cell_type": "code",
   "outputs": [],
   "execution_count": null,
   "source": [
    "import importlib\n",
    "import Clases\n",
    "importlib.reload(Clases)\n",
    "\n",
    "from Clases import Imagenes\n",
    "\n",
    "proc_h = Imagenes(data_direccion_healthy)\n",
    "proc_h.obtener_dimensiones_originales()"
   ],
   "id": "f577207611c4e033"
  },
  {
   "metadata": {},
   "cell_type": "code",
   "outputs": [],
   "execution_count": null,
   "source": [
    "proc_e = Imagenes(data_direccion_eblight)\n",
    "proc_e.obtener_dimensiones_originales()"
   ],
   "id": "869321c8b4916bed"
  },
  {
   "metadata": {},
   "cell_type": "code",
   "outputs": [],
   "execution_count": null,
   "source": [
    "proc_l = Imagenes(data_direccion_lblight)\n",
    "proc_l.obtener_dimensiones_originales()"
   ],
   "id": "e7f2e1d3c695dc35"
  },
  {
   "metadata": {},
   "cell_type": "markdown",
   "source": "#### 6. Verificación de formatos RGB / BN",
   "id": "47238cdda1a32066"
  },
  {
   "metadata": {},
   "cell_type": "code",
   "outputs": [],
   "execution_count": null,
   "source": [
    "import importlib\n",
    "import Clases\n",
    "importlib.reload(Clases)\n",
    "\n",
    "from Clases import Imagenes\n",
    "\n",
    "proc_hl = Imagenes(data_direccion_healthy)\n",
    "proc_hl.verificar_formatos_color()"
   ],
   "id": "65b91fdf0cc54db0"
  },
  {
   "metadata": {},
   "cell_type": "code",
   "outputs": [],
   "execution_count": null,
   "source": [
    "proc_bt = Imagenes(data_direccion_lblight)\n",
    "proc_bt.verificar_formatos_color()"
   ],
   "id": "78861a7ba26fe65e"
  },
  {
   "metadata": {},
   "cell_type": "code",
   "outputs": [],
   "execution_count": null,
   "source": [
    "proc_el = Imagenes(data_direccion_eblight)\n",
    "proc_el.verificar_formatos_color()"
   ],
   "id": "5a6f44b864b7e910"
  },
  {
   "metadata": {},
   "cell_type": "markdown",
   "source": "#### 7. Estandarización y redimensión de datos",
   "id": "fda1ed713f17617d"
  },
  {
   "metadata": {},
   "cell_type": "code",
   "outputs": [],
   "execution_count": null,
   "source": [
    "import importlib\n",
    "import Clases\n",
    "importlib.reload(Clases)\n",
    "\n",
    "from Clases import Imagenes\n",
    "\n",
    "proc = Imagenes(data_direccion_healthy)\n",
    "proc.estandarizar_a_rgb()\n",
    "proc.redimensionar_imagenes((256, 256))"
   ],
   "id": "fc91ca6dc44c95c1"
  },
  {
   "metadata": {},
   "cell_type": "code",
   "outputs": [],
   "execution_count": null,
   "source": [
    "proc = Imagenes(data_direccion_eblight)\n",
    "proc.estandarizar_a_rgb()\n",
    "proc.redimensionar_imagenes((256, 256))"
   ],
   "id": "f69cfa6e65d63d11"
  },
  {
   "metadata": {},
   "cell_type": "code",
   "outputs": [],
   "execution_count": null,
   "source": [
    "proc = Imagenes(data_direccion_lblight)\n",
    "proc.estandarizar_a_rgb()\n",
    "proc.redimensionar_imagenes((256, 256))"
   ],
   "id": "3447e6df17031cd7"
  }
 ],
 "metadata": {
  "kernelspec": {
   "display_name": "Python 3",
   "language": "python",
   "name": "python3"
  },
  "language_info": {
   "codemirror_mode": {
    "name": "ipython",
    "version": 2
   },
   "file_extension": ".py",
   "mimetype": "text/x-python",
   "name": "python",
   "nbconvert_exporter": "python",
   "pygments_lexer": "ipython2",
   "version": "2.7.6"
  }
 },
 "nbformat": 4,
 "nbformat_minor": 5
}
